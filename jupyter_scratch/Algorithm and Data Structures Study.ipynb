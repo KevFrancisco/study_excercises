{
 "cells": [
  {
   "cell_type": "code",
   "execution_count": 1,
   "id": "94091121",
   "metadata": {},
   "outputs": [
    {
     "name": "stdout",
     "output_type": "stream",
     "text": [
      "[1, 2, 3]\n"
     ]
    }
   ],
   "source": [
    "arr = [1, 2 ,3]\n",
    "print(arr)"
   ]
  },
  {
   "cell_type": "code",
   "execution_count": 4,
   "id": "6fc7c304",
   "metadata": {},
   "outputs": [
    {
     "name": "stdout",
     "output_type": "stream",
     "text": [
      "<class 'set'>\n"
     ]
    }
   ],
   "source": [
    "nodes = {1, 2, 3}\n",
    "print(type(nodes))"
   ]
  },
  {
   "cell_type": "code",
   "execution_count": 8,
   "id": "d78c43c0",
   "metadata": {},
   "outputs": [],
   "source": [
    "# Sample function\n",
    "\n",
    "def sum1(n):\n",
    "    '''\n",
    "    Take an input of n and return teh sum of the numbers from 0 to n\n",
    "    '''\n",
    "    final_sum = 0\n",
    "    for x in range(n+1):  # range function is exclusive of the last n, compensate by adding 1\n",
    "        final_sum += x\n",
    "    return final_sum"
   ]
  },
  {
   "cell_type": "code",
   "execution_count": 6,
   "id": "d6fff5af",
   "metadata": {},
   "outputs": [
    {
     "data": {
      "text/plain": [
       "15"
      ]
     },
     "execution_count": 6,
     "metadata": {},
     "output_type": "execute_result"
    }
   ],
   "source": [
    "sum1(5)"
   ]
  },
  {
   "cell_type": "code",
   "execution_count": 7,
   "id": "04db401f",
   "metadata": {},
   "outputs": [
    {
     "data": {
      "text/plain": [
       "561"
      ]
     },
     "execution_count": 7,
     "metadata": {},
     "output_type": "execute_result"
    }
   ],
   "source": [
    "sum1(33)"
   ]
  },
  {
   "cell_type": "code",
   "execution_count": 14,
   "id": "f4422acb",
   "metadata": {},
   "outputs": [],
   "source": [
    "# How about this sample function\n",
    "def sum2(n):\n",
    "    '''\n",
    "    Take an input of n and return the sum of numbers from 0 to n\n",
    "    '''\n",
    "    return (n*(n+1))"
   ]
  },
  {
   "cell_type": "code",
   "execution_count": 16,
   "id": "915eb5a4",
   "metadata": {},
   "outputs": [
    {
     "data": {
      "text/plain": [
       "21"
      ]
     },
     "execution_count": 16,
     "metadata": {},
     "output_type": "execute_result"
    }
   ],
   "source": [
    "sum2(6)"
   ]
  },
  {
   "cell_type": "markdown",
   "id": "8310f25c",
   "metadata": {},
   "source": [
    "Function 1 uses a for loop\n",
    "Function 2 uses a mathematical formula to solve a problem\n",
    "\n",
    "# Objectively compare them\n",
    "- Memory Space\n",
    "- Time to run"
   ]
  },
  {
   "cell_type": "code",
   "execution_count": 22,
   "id": "e15dcaf0",
   "metadata": {},
   "outputs": [
    {
     "name": "stdout",
     "output_type": "stream",
     "text": [
      "3.13 µs ± 111 ns per loop (mean ± std. dev. of 7 runs, 100000 loops each)\n"
     ]
    }
   ],
   "source": [
    "# Use built-in magic commands in notebook\n",
    "# result is in microseconds\n",
    "\n",
    "%timeit sum1(100)"
   ]
  },
  {
   "cell_type": "code",
   "execution_count": 20,
   "id": "fc286bde",
   "metadata": {},
   "outputs": [
    {
     "name": "stdout",
     "output_type": "stream",
     "text": [
      "152 ns ± 1.54 ns per loop (mean ± std. dev. of 7 runs, 10000000 loops each)\n"
     ]
    }
   ],
   "source": [
    "%timeit sum2(100)"
   ]
  },
  {
   "cell_type": "markdown",
   "id": "9e9ec4e2",
   "metadata": {},
   "source": [
    "MICRO = 10^-6\n",
    "\n",
    "NANO = 10^-9\n",
    "\n",
    "Nano is smaller by a **Factor of 3!**\n",
    "\n",
    "\n",
    "Smaller unit means faster! Nano > Micro"
   ]
  },
  {
   "cell_type": "code",
   "execution_count": 23,
   "id": "0ab24381",
   "metadata": {},
   "outputs": [
    {
     "data": {
      "text/plain": [
       "84"
      ]
     },
     "execution_count": 23,
     "metadata": {},
     "output_type": "execute_result"
    }
   ],
   "source": [
    "def Bigo(n):\n",
    "    return 45*n**3+20*n**2+19\n",
    "Bigo(1)"
   ]
  },
  {
   "cell_type": "code",
   "execution_count": 24,
   "id": "6a5cb91f",
   "metadata": {},
   "outputs": [
    {
     "data": {
      "text/plain": [
       "459"
      ]
     },
     "execution_count": 24,
     "metadata": {},
     "output_type": "execute_result"
    }
   ],
   "source": [
    "Bigo(2)"
   ]
  },
  {
   "cell_type": "code",
   "execution_count": 25,
   "id": "cfd2d5e0",
   "metadata": {},
   "outputs": [
    {
     "data": {
      "text/plain": [
       "47019"
      ]
     },
     "execution_count": 25,
     "metadata": {},
     "output_type": "execute_result"
    }
   ],
   "source": [
    "Bigo(10)"
   ]
  },
  {
   "cell_type": "code",
   "execution_count": 34,
   "id": "55569db9",
   "metadata": {},
   "outputs": [
    {
     "name": "stdout",
     "output_type": "stream",
     "text": [
      "[1, 2, 3, 4, 5]\n"
     ]
    }
   ],
   "source": [
    "lst2 = [5, 4, 3, 2, 1]\n",
    "lst2.reverse()\n",
    "print(lst2)\n"
   ]
  },
  {
   "cell_type": "code",
   "execution_count": 28,
   "id": "133970d6",
   "metadata": {},
   "outputs": [],
   "source": [
    "def anagram(s1, s2):\n",
    "    # Remove spaces and lowercase letters\n",
    "    s1 = s1.replace(' ', '').lower()\n",
    "    s2 = s2.replace(' ', '').lower()\n",
    "    return sorted(s1) == sorted(s2)"
   ]
  },
  {
   "cell_type": "code",
   "execution_count": 29,
   "id": "6c2c0e4a",
   "metadata": {},
   "outputs": [
    {
     "data": {
      "text/plain": [
       "True"
      ]
     },
     "execution_count": 29,
     "metadata": {},
     "output_type": "execute_result"
    }
   ],
   "source": [
    "anagram('dog', 'god')"
   ]
  },
  {
   "cell_type": "code",
   "execution_count": 58,
   "id": "f1602185",
   "metadata": {},
   "outputs": [],
   "source": [
    "def anagram2(s1, s2):\n",
    "\n",
    "    s1 = s1.replace(' ', '').lower()\n",
    "    s2 = s2.replace(' ', '').lower()\n",
    "    \n",
    "    # Check if both strings are the same length\n",
    "    if len(s1) != len(s2):\n",
    "        return False\n",
    "    \n",
    "    # Hash map time\n",
    "    lcount = {}\n",
    "    print(lcount, type(lcount))\n",
    "    \n",
    "    for letter in s1:\n",
    "        if letter in lcount.keys():\n",
    "            lcount[letter] += 1\n",
    "        else:\n",
    "            lcount = 1\n",
    "    \n",
    "    for letter in s2:\n",
    "        if letter in lcount.keys():\n",
    "            lcount[letter] -= 1\n",
    "        else:\n",
    "            lcount = 1\n",
    "    \n",
    "    for k in count:\n",
    "        if k != 0:\n",
    "            return False\n",
    "    \n",
    "    return True    "
   ]
  },
  {
   "cell_type": "code",
   "execution_count": 59,
   "id": "f0326228",
   "metadata": {},
   "outputs": [
    {
     "name": "stdout",
     "output_type": "stream",
     "text": [
      "{} <class 'dict'>\n"
     ]
    },
    {
     "ename": "AttributeError",
     "evalue": "'int' object has no attribute 'keys'",
     "output_type": "error",
     "traceback": [
      "\u001b[0;31m---------------------------------------------------------------------------\u001b[0m",
      "\u001b[0;31mAttributeError\u001b[0m                            Traceback (most recent call last)",
      "\u001b[0;32m/tmp/ipykernel_9053/2023852120.py\u001b[0m in \u001b[0;36m<module>\u001b[0;34m\u001b[0m\n\u001b[0;32m----> 1\u001b[0;31m \u001b[0managram2\u001b[0m\u001b[0;34m(\u001b[0m\u001b[0;34m'abc'\u001b[0m\u001b[0;34m,\u001b[0m \u001b[0;34m'abc'\u001b[0m\u001b[0;34m)\u001b[0m\u001b[0;34m\u001b[0m\u001b[0;34m\u001b[0m\u001b[0m\n\u001b[0m",
      "\u001b[0;32m/tmp/ipykernel_9053/2599141202.py\u001b[0m in \u001b[0;36managram2\u001b[0;34m(s1, s2)\u001b[0m\n\u001b[1;32m     13\u001b[0m \u001b[0;34m\u001b[0m\u001b[0m\n\u001b[1;32m     14\u001b[0m     \u001b[0;32mfor\u001b[0m \u001b[0mletter\u001b[0m \u001b[0;32min\u001b[0m \u001b[0ms1\u001b[0m\u001b[0;34m:\u001b[0m\u001b[0;34m\u001b[0m\u001b[0;34m\u001b[0m\u001b[0m\n\u001b[0;32m---> 15\u001b[0;31m         \u001b[0;32mif\u001b[0m \u001b[0mletter\u001b[0m \u001b[0;32min\u001b[0m \u001b[0mlcount\u001b[0m\u001b[0;34m.\u001b[0m\u001b[0mkeys\u001b[0m\u001b[0;34m(\u001b[0m\u001b[0;34m)\u001b[0m\u001b[0;34m:\u001b[0m\u001b[0;34m\u001b[0m\u001b[0;34m\u001b[0m\u001b[0m\n\u001b[0m\u001b[1;32m     16\u001b[0m             \u001b[0mlcount\u001b[0m\u001b[0;34m[\u001b[0m\u001b[0mletter\u001b[0m\u001b[0;34m]\u001b[0m \u001b[0;34m+=\u001b[0m \u001b[0;36m1\u001b[0m\u001b[0;34m\u001b[0m\u001b[0;34m\u001b[0m\u001b[0m\n\u001b[1;32m     17\u001b[0m         \u001b[0;32melse\u001b[0m\u001b[0;34m:\u001b[0m\u001b[0;34m\u001b[0m\u001b[0;34m\u001b[0m\u001b[0m\n",
      "\u001b[0;31mAttributeError\u001b[0m: 'int' object has no attribute 'keys'"
     ]
    }
   ],
   "source": [
    "anagram2('abc', 'abc')"
   ]
  }
 ],
 "metadata": {
  "kernelspec": {
   "display_name": "Python 3 (ipykernel)",
   "language": "python",
   "name": "python3"
  },
  "language_info": {
   "codemirror_mode": {
    "name": "ipython",
    "version": 3
   },
   "file_extension": ".py",
   "mimetype": "text/x-python",
   "name": "python",
   "nbconvert_exporter": "python",
   "pygments_lexer": "ipython3",
   "version": "3.9.5"
  }
 },
 "nbformat": 4,
 "nbformat_minor": 5
}
